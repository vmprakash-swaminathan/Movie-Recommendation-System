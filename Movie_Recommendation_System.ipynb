{
 "cells": [
  {
   "cell_type": "raw",
   "id": "d916cd3a-1196-48fc-ab10-13b5a47cbea7",
   "metadata": {},
   "source": [
    "LOADING THE DATASET"
   ]
  },
  {
   "cell_type": "code",
   "execution_count": 4,
   "id": "1606f2a2-e3ae-4456-8616-3261c413933d",
   "metadata": {},
   "outputs": [
    {
     "name": "stdout",
     "output_type": "stream",
     "text": [
      "Movies Dataset:\n",
      "   movieId                               title  \\\n",
      "0        1                    Toy Story (1995)   \n",
      "1        2                      Jumanji (1995)   \n",
      "2        3             Grumpier Old Men (1995)   \n",
      "3        4            Waiting to Exhale (1995)   \n",
      "4        5  Father of the Bride Part II (1995)   \n",
      "\n",
      "                                        genres  \n",
      "0  Adventure|Animation|Children|Comedy|Fantasy  \n",
      "1                   Adventure|Children|Fantasy  \n",
      "2                               Comedy|Romance  \n",
      "3                         Comedy|Drama|Romance  \n",
      "4                                       Comedy  \n",
      "\n",
      "Ratings Dataset:\n",
      "   userId  movieId  rating  timestamp\n",
      "0       1        1     4.0  964982703\n",
      "1       1        3     4.0  964981247\n",
      "2       1        6     4.0  964982224\n",
      "3       1       47     5.0  964983815\n",
      "4       1       50     5.0  964982931\n"
     ]
    }
   ],
   "source": [
    "import pandas as pd\n",
    "import numpy as np\n",
    "\n",
    "\n",
    "movies = pd.read_csv(\"movies.csv\")\n",
    "ratings = pd.read_csv(\"ratings.csv\")\n",
    "\n",
    "\n",
    "print(\"Movies Dataset:\")\n",
    "print(movies.head())\n",
    "\n",
    "print(\"\\nRatings Dataset:\")\n",
    "print(ratings.head())\n"
   ]
  },
  {
   "cell_type": "raw",
   "id": "9433ffcb-a115-43fc-9e40-fcd7ed05509f",
   "metadata": {},
   "source": [
    "Popularity"
   ]
  },
  {
   "cell_type": "code",
   "execution_count": 5,
   "id": "a32393b9-7c8d-4f22-9e88-8c821163d4fb",
   "metadata": {},
   "outputs": [
    {
     "name": "stdout",
     "output_type": "stream",
     "text": [
      "Top 5 by rating count (popularity):\n",
      " movieId                            title                      genres  rating_count\n",
      "     356              Forrest Gump (1994)    Comedy|Drama|Romance|War           329\n",
      "     318 Shawshank Redemption, The (1994)                 Crime|Drama           317\n",
      "     296              Pulp Fiction (1994) Comedy|Crime|Drama|Thriller           307\n",
      "     593 Silence of the Lambs, The (1991)       Crime|Horror|Thriller           279\n",
      "    2571               Matrix, The (1999)      Action|Sci-Fi|Thriller           278\n",
      "\n",
      "Top 5 by average rating (min 50 ratings):\n",
      " movieId                                                                       title                      genres  avg_rating  rating_count\n",
      "     318                                            Shawshank Redemption, The (1994)                 Crime|Drama    4.429022           317\n",
      "     858                                                       Godfather, The (1972)                 Crime|Drama    4.289062           192\n",
      "    2959                                                           Fight Club (1999) Action|Crime|Drama|Thriller    4.272936           218\n",
      "    1276                                                       Cool Hand Luke (1967)                       Drama    4.271930            57\n",
      "     750 Dr. Strangelove or: How I Learned to Stop Worrying and Love the Bomb (1964)                  Comedy|War    4.268041            97\n"
     ]
    }
   ],
   "source": [
    "\n",
    "\n",
    "def top_popular_by_count(n=5):\n",
    "    \"\"\"Top n movies by number of ratings (popularity).\"\"\"\n",
    "    counts = ratings.groupby('movieId').size().reset_index(name='rating_count')\n",
    "    merged = counts.merge(movies, on='movieId')\n",
    "    top = merged.sort_values('rating_count', ascending=False).head(n)\n",
    "    return top[['movieId','title','genres','rating_count']]\n",
    "\n",
    "def top_by_avg_rating(n=5, min_ratings=50):\n",
    "    \"\"\"Top n movies by average rating, but only movies with >= min_ratings.\"\"\"\n",
    "    agg = ratings.groupby('movieId').agg({'rating':['mean','count']})\n",
    "    agg.columns = ['avg_rating','rating_count']\n",
    "    agg = agg.reset_index()\n",
    "    agg = agg[agg['rating_count'] >= min_ratings]\n",
    "    merged = agg.merge(movies, on='movieId')\n",
    "    top = merged.sort_values(['avg_rating','rating_count'], ascending=[False, False]).head(n)\n",
    "    return top[['movieId','title','genres','avg_rating','rating_count']]\n",
    "\n",
    "print(\"Top 5 by rating count (popularity):\")\n",
    "print(top_popular_by_count(5).to_string(index=False))\n",
    "\n",
    "print(\"\\nTop 5 by average rating (min 50 ratings):\")\n",
    "print(top_by_avg_rating(5, min_ratings=50).to_string(index=False))\n"
   ]
  },
  {
   "cell_type": "raw",
   "id": "9cba0fb9-3e7b-4d76-9ff1-3f509a387cfa",
   "metadata": {},
   "source": [
    "Content-Based Filtering"
   ]
  },
  {
   "cell_type": "code",
   "execution_count": 6,
   "id": "376619da-1f98-42dc-b5e2-bdc7bc0e62c2",
   "metadata": {},
   "outputs": [
    {
     "name": "stdout",
     "output_type": "stream",
     "text": [
      "Content-based recommendations for: Avengers, The (1998)\n",
      " movieId                                                                          title           genres\n",
      "     761                                                            Phantom, The (1996) Action|Adventure\n",
      "     809                                                                    Fled (1996) Action|Adventure\n",
      "    1049                                             Ghost and the Darkness, The (1996) Action|Adventure\n",
      "    1198 Raiders of the Lost Ark (Indiana Jones and the Raiders of the Lost Ark) (1981) Action|Adventure\n",
      "    1291                                      Indiana Jones and the Last Crusade (1989) Action|Adventure\n"
     ]
    }
   ],
   "source": [
    "from sklearn.feature_extraction.text import CountVectorizer\n",
    "from sklearn.metrics.pairwise import cosine_similarity\n",
    "\n",
    "\n",
    "movies_cb = movies.copy()\n",
    "movies_cb['genres'] = movies_cb['genres'].fillna('')\n",
    "movies_cb['genres_literal'] = movies_cb['genres'].str.replace('|', ' ', regex=False)\n",
    "\n",
    "\n",
    "vectorizer = CountVectorizer()\n",
    "genre_matrix = vectorizer.fit_transform(movies_cb['genres_literal'])\n",
    "genre_cosine_sim = cosine_similarity(genre_matrix, genre_matrix)\n",
    "\n",
    "\n",
    "title_to_index = pd.Series(movies_cb.index, index=movies_cb['title']).drop_duplicates()\n",
    "\n",
    "def get_content_recommendations(title, top_n=5):\n",
    "    \"\"\"Return top_n movies similar to the given title (by genres).\"\"\"\n",
    "    if title not in title_to_index:\n",
    "        return f\"Title '{title}' not found in dataset.\"\n",
    "    idx = int(title_to_index[title])\n",
    "    sim_scores = list(enumerate(genre_cosine_sim[idx]))\n",
    "    sim_scores = sorted(sim_scores, key=lambda x: x[1], reverse=True)\n",
    "    sim_scores = sim_scores[1:top_n+1]  # skip the movie itself\n",
    "    movie_indices = [i[0] for i in sim_scores]\n",
    "    return movies_cb.iloc[movie_indices][['movieId','title','genres']]\n",
    "\n",
    "\n",
    "seed = \"Avengers, The (1998)\"\n",
    "   \n",
    "print(f\"Content-based recommendations for: {seed}\")\n",
    "print(get_content_recommendations(seed, top_n=5).to_string(index=False))\n"
   ]
  },
  {
   "cell_type": "code",
   "execution_count": 7,
   "id": "c17c0d98-0c6d-4634-a828-fd813e7394c7",
   "metadata": {},
   "outputs": [
    {
     "name": "stdout",
     "output_type": "stream",
     "text": [
      "Content-based recommendations for: Urban Legend (1998)\n",
      " movieId                                                                                  title          genres\n",
      "     328                                     Tales from the Crypt Presents: Demon Knight (1995) Horror|Thriller\n",
      "     407                                                         In the Mouth of Madness (1995) Horror|Thriller\n",
      "     742                                                                         Thinner (1996) Horror|Thriller\n",
      "     879                                                                      Relic, The (1997) Horror|Thriller\n",
      "     891 Halloween: The Curse of Michael Myers (Halloween 6: The Curse of Michael Myers) (1995) Horror|Thriller\n"
     ]
    }
   ],
   "source": [
    "seed = \"Urban Legend (1998)\"\n",
    "   \n",
    "print(f\"Content-based recommendations for: {seed}\")\n",
    "print(get_content_recommendations(seed, top_n=5).to_string(index=False))"
   ]
  },
  {
   "cell_type": "raw",
   "id": "22ec2783-26aa-405b-b24f-f9f117c7529d",
   "metadata": {},
   "source": [
    "Collaborative Filtering"
   ]
  },
  {
   "cell_type": "code",
   "execution_count": 9,
   "id": "e52e8c28-f10e-43ad-ba36-c76c2323aebe",
   "metadata": {},
   "outputs": [
    {
     "name": "stdout",
     "output_type": "stream",
     "text": [
      "Ratings pivot shape (users x movies): (610, 9724)\n"
     ]
    }
   ],
   "source": [
    "from sklearn.metrics.pairwise import cosine_similarity\n",
    "\n",
    "\n",
    "ratings_pivot = ratings.pivot(index='userId', columns='movieId', values='rating').fillna(0)\n",
    "print(\"Ratings pivot shape (users x movies):\", ratings_pivot.shape)\n",
    "\n",
    "\n",
    "item_similarity = cosine_similarity(ratings_pivot.T)   \n",
    "item_ids = list(ratings_pivot.columns)                \n",
    "\n",
    "\n",
    "pos_to_movieid = {i: mid for i, mid in enumerate(item_ids)}\n",
    "movieid_to_pos = {mid: i for i, mid in enumerate(item_ids)}\n",
    "\n",
    "def get_cf_recommendations(user_id, top_n=5):\n",
    "   \n",
    "    if user_id not in ratings_pivot.index:\n",
    "        return f\"User {user_id} not found in ratings.\"\n",
    "    user_ratings = ratings_pivot.loc[user_id].values  \n",
    "\n",
    "    raw_scores = item_similarity.dot(user_ratings)     \n",
    "   \n",
    "    sim_sums = np.abs(item_similarity).sum(axis=1)\n",
    "    with np.errstate(divide='ignore', invalid='ignore'):\n",
    "        scores = raw_scores / sim_sums\n",
    "\n",
    "    preds = pd.DataFrame({\n",
    "        'movieId': [pos_to_movieid[i] for i in range(len(scores))],\n",
    "        'pred_score': scores,\n",
    "        'user_has_rated': user_ratings\n",
    "    })\n",
    "   \n",
    "    unseen = preds[preds['user_has_rated'] == 0]\n",
    "    top_unseen = unseen.sort_values('pred_score', ascending=False).head(top_n)\n",
    "    \n",
    "    recommendations = top_unseen.merge(movies, on='movieId')[['movieId','title','genres','pred_score']]\n",
    "    return recommendations\n",
    "\n",
    "\n",
    "\n"
   ]
  },
  {
   "cell_type": "code",
   "execution_count": 10,
   "id": "47f92e58-3941-4cb9-85ac-8980a9978cfe",
   "metadata": {},
   "outputs": [
    {
     "name": "stdout",
     "output_type": "stream",
     "text": [
      "Collaborative (item-based) recommendations for user 414:\n",
      " movieId                                      title         genres  pred_score\n",
      "   27373                                 61* (2001)          Drama    3.378024\n",
      "  193609        Andrew Dice Clay: Dice Rules (1991)         Comedy    3.354932\n",
      "  141846  Steve Jobs: The Man in the Machine (2015)    Documentary    3.335774\n",
      "    6480            Thoroughly Modern Millie (1967) Comedy|Musical    3.279013\n",
      "   68536 Stanley Kubrick: A Life in Pictures (2001)    Documentary    3.273283\n"
     ]
    }
   ],
   "source": [
    "user_counts = ratings['userId'].value_counts()\n",
    "sample_user = user_counts[user_counts >= 10].index[0] if any(user_counts >= 10) else ratings['userId'].iloc[0]\n",
    "print(f\"Collaborative (item-based) recommendations for user {sample_user}:\")\n",
    "print(get_cf_recommendations(sample_user, top_n=5).to_string(index=False))"
   ]
  },
  {
   "cell_type": "code",
   "execution_count": 12,
   "id": "98296abb-a0a8-4437-b984-639c8b038619",
   "metadata": {},
   "outputs": [],
   "source": [
    "def print_rec_df(df, header=\"Recommendations\"):\n",
    "    if isinstance(df, str):\n",
    "        print(df\n",
    "        return\n",
    "    print(f\"\\n--- {header} ---\")\n",
    "    for i, row in df.reset_index(drop=True).iterrows():\n",
    "        title = row.get('title') or row.get('movieId')\n",
    "        extra = []\n",
    "        if 'pred_score' in row: extra.append(f\"score={row['pred_score']:.3f}\")\n",
    "        if 'avg_rating' in row: extra.append(f\"avg={row['avg_rating']:.2f}\")\n",
    "        if 'rating_count' in row: extra.append(f\"votes={int(row['rating_count'])}\")\n",
    "        print(f\"{i+1}. {title}  {' | '.join(extra)}\")\n"
   ]
  },
  {
   "cell_type": "raw",
   "id": "a427ca7c-59fc-4497-9b4a-66cfb08eefc4",
   "metadata": {},
   "source": [
    "Popularity-Based Recommender"
   ]
  },
  {
   "cell_type": "code",
   "execution_count": 23,
   "id": "be451a29-2973-4c49-8943-2f8e0eddf50f",
   "metadata": {},
   "outputs": [
    {
     "name": "stdout",
     "output_type": "stream",
     "text": [
      "----------------------------------------------------------\n",
      " movieId                            title                      genres  rating_count\n",
      "     356              Forrest Gump (1994)    Comedy|Drama|Romance|War           329\n",
      "     318 Shawshank Redemption, The (1994)                 Crime|Drama           317\n",
      "     296              Pulp Fiction (1994) Comedy|Crime|Drama|Thriller           307\n",
      "\n",
      "----------------------------------------------------------\n",
      " movieId                            title                      genres  avg_rating  rating_count\n",
      "     318 Shawshank Redemption, The (1994)                 Crime|Drama    4.429022           317\n",
      "     858            Godfather, The (1972)                 Crime|Drama    4.289062           192\n",
      "    2959                Fight Club (1999) Action|Crime|Drama|Thriller    4.272936           218\n"
     ]
    }
   ],
   "source": [
    "print(\"----------------------------------------------------------\")\n",
    "print(top_popular_by_count(3).to_string(index=False))\n",
    "\n",
    "print(\"\\n----------------------------------------------------------\")\n",
    "print(top_by_avg_rating(3, min_ratings=50).to_string(index=False))\n"
   ]
  },
  {
   "cell_type": "raw",
   "id": "ba8b5743-a19c-47f8-a5af-42c215be0d3d",
   "metadata": {},
   "source": [
    "Content-Based Filtering"
   ]
  },
  {
   "cell_type": "code",
   "execution_count": 21,
   "id": "6767f9aa-9de3-4e2f-ac32-0fe2a0d09426",
   "metadata": {},
   "outputs": [
    {
     "name": "stdout",
     "output_type": "stream",
     "text": [
      "----------------------------------------------------------\n",
      " movieId                                          title                                      genres\n",
      "    2294                                    Antz (1998) Adventure|Animation|Children|Comedy|Fantasy\n",
      "    3114                             Toy Story 2 (1999) Adventure|Animation|Children|Comedy|Fantasy\n",
      "    3754 Adventures of Rocky and Bullwinkle, The (2000) Adventure|Animation|Children|Comedy|Fantasy\n",
      "\n",
      "----------------------------------------------------------\n",
      " movieId                                                 title                      genres\n",
      "     608                                          Fargo (1996) Comedy|Crime|Drama|Thriller\n",
      "    1034                                        Freeway (1996) Comedy|Crime|Drama|Thriller\n",
      "    3266 Man Bites Dog (C'est arrivé près de chez vous) (1992) Comedy|Crime|Drama|Thriller\n",
      "\n",
      "----------------------------------------------------------\n",
      " movieId                                                     title                                     genres\n",
      "    1688                                          Anastasia (1997) Adventure|Animation|Children|Drama|Musical\n",
      "     888 Land Before Time III: The Time of the Great Giving (1995)       Adventure|Animation|Children|Musical\n",
      "    1029                                              Dumbo (1941)           Animation|Children|Drama|Musical\n"
     ]
    }
   ],
   "source": [
    "print(\"----------------------------------------------------------\")\n",
    "print(get_content_recommendations(\"Toy Story (1995)\", 3).to_string(index=False))\n",
    "\n",
    "print(\"\\n----------------------------------------------------------\")\n",
    "print(get_content_recommendations(\"Pulp Fiction (1994)\", 3).to_string(index=False))\n",
    "\n",
    "print(\"\\n----------------------------------------------------------\")\n",
    "print(get_content_recommendations(\"Lion King, The (1994)\", 3).to_string(index=False))\n"
   ]
  },
  {
   "cell_type": "raw",
   "id": "5e3b21fd-703b-4506-80cd-852c332978e4",
   "metadata": {},
   "source": [
    "Collaborative Filtering"
   ]
  },
  {
   "cell_type": "code",
   "execution_count": 22,
   "id": "3feb491b-dd89-49bf-9c5d-8759570f3b12",
   "metadata": {},
   "outputs": [
    {
     "name": "stdout",
     "output_type": "stream",
     "text": [
      "-----------------------------\n",
      " movieId                                          title                       genres  pred_score\n",
      "     876 Supercop 2 (Project S) (Chao ji ji hua) (1993) Action|Comedy|Crime|Thriller    1.356194\n",
      "    6145                                   Venom (1982)              Horror|Thriller    1.323607\n",
      "    2812                             In Too Deep (1999)              Action|Thriller    1.280674\n",
      "\n",
      "-------------------------------\n",
      " movieId                                     title                     genres  pred_score\n",
      "  131739                   Batman vs. Robin (2015) Action|Adventure|Animation    0.865116\n",
      "  141846 Steve Jobs: The Man in the Machine (2015)                Documentary    0.839585\n",
      "    6145                              Venom (1982)            Horror|Thriller    0.785248\n",
      "\n",
      "-----------------------------\n",
      " movieId                                title        genres  pred_score\n",
      "   55854                 Fugitive, The (1947)         Drama    1.922002\n",
      "    8626 Dr. Terror's House of Horrors (1965) Horror|Sci-Fi    1.537040\n",
      "   52715           Kickin It Old Skool (2007)        Comedy    1.537040\n"
     ]
    }
   ],
   "source": [
    "print(\"-----------------------------\")\n",
    "print(get_cf_recommendations(1, top_n=3).to_string(index=False))\n",
    "\n",
    "print(\"\\n-------------------------------\")\n",
    "print(get_cf_recommendations(50, top_n=3).to_string(index=False))\n",
    "\n",
    "print(\"\\n-----------------------------\")\n",
    "print(get_cf_recommendations(200, top_n=3).to_string(index=False))\n"
   ]
  }
 ],
 "metadata": {
  "kernelspec": {
   "display_name": "Python [conda env:base] *",
   "language": "python",
   "name": "conda-base-py"
  },
  "language_info": {
   "codemirror_mode": {
    "name": "ipython",
    "version": 3
   },
   "file_extension": ".py",
   "mimetype": "text/x-python",
   "name": "python",
   "nbconvert_exporter": "python",
   "pygments_lexer": "ipython3",
   "version": "3.13.5"
  }
 },
 "nbformat": 4,
 "nbformat_minor": 5
}
